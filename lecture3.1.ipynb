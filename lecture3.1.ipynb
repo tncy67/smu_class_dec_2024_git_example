{
 "cells": [
  {
   "cell_type": "code",
   "execution_count": null,
   "id": "3a007c88-50cd-43e6-a848-0773dc32271d",
   "metadata": {},
   "outputs": [],
   "source": [
    "# single line comment in python is just a hastag before it"
   ]
  },
  {
   "cell_type": "code",
   "execution_count": null,
   "id": "020a62e2-a6a7-4b56-bc30-6bc7c5118cee",
   "metadata": {},
   "outputs": [],
   "source": [
    "\"\"\"\n",
    "\n",
    "this \n",
    "is \n",
    "your\n",
    "multi line\n",
    "commenting\n",
    "\n",
    "anything in between those 3 quotations is a comment, not a code cell\n",
    "\n",
    "\n",
    "\n",
    "\"\"\""
   ]
  },
  {
   "cell_type": "code",
   "execution_count": null,
   "id": "36e1191b-2659-411d-8ca7-a3c168be49bf",
   "metadata": {},
   "outputs": [],
   "source": [
    "import pandas as pd\n",
    "\n",
    "# to make this the markdown, on dropdown, just select the markdown."
   ]
  },
  {
   "cell_type": "code",
   "execution_count": null,
   "id": "faf97441-1b33-49f1-ad55-f41c328efcec",
   "metadata": {},
   "outputs": [],
   "source": [
    "\"\"\"\n",
    "to run your code in notebook\n",
    "\n",
    "ctrl + enter, it runs the code and keeps the cursor where it was\n",
    "\n",
    "shift + enter, it runs the code and goes to the next code cell\n",
    "\n",
    "\n",
    "\"\"\""
   ]
  },
  {
   "cell_type": "markdown",
   "id": "50f66ea8-aa21-4957-9e33-bfc9f24a258c",
   "metadata": {},
   "source": [
    "# how to print"
   ]
  },
  {
   "cell_type": "code",
   "execution_count": 2,
   "id": "546f9284-b1fe-4883-9a07-4924b3b5f670",
   "metadata": {},
   "outputs": [],
   "source": [
    "y = 7\n",
    "z = 8 "
   ]
  },
  {
   "cell_type": "code",
   "execution_count": 1,
   "id": "1cbae327-9353-417c-b510-a517b0265f75",
   "metadata": {},
   "outputs": [],
   "source": [
    "planet = \"earth\"  # planet is a variable that is holding a string value \n",
    "diameter = 12742  # diameter is a variable that is holding an integer value"
   ]
  },
  {
   "cell_type": "code",
   "execution_count": 4,
   "id": "c4848a49-57cb-4004-86ac-6b9638aa67db",
   "metadata": {},
   "outputs": [
    {
     "data": {
      "text/plain": [
       "12742"
      ]
     },
     "execution_count": 4,
     "metadata": {},
     "output_type": "execute_result"
    }
   ],
   "source": [
    "diameter"
   ]
  },
  {
   "cell_type": "code",
   "execution_count": 5,
   "id": "0f4120b7-8c09-4e0e-bfe0-cb55bb847ec8",
   "metadata": {},
   "outputs": [
    {
     "name": "stdout",
     "output_type": "stream",
     "text": [
      "12742\n"
     ]
    }
   ],
   "source": [
    "print(diameter)"
   ]
  },
  {
   "cell_type": "code",
   "execution_count": 6,
   "id": "ae6cb0a8-a9f7-4af4-be7b-25676c8479eb",
   "metadata": {},
   "outputs": [
    {
     "data": {
      "text/plain": [
       "int"
      ]
     },
     "execution_count": 6,
     "metadata": {},
     "output_type": "execute_result"
    }
   ],
   "source": [
    "type(diameter) # int is integer"
   ]
  },
  {
   "cell_type": "code",
   "execution_count": 7,
   "id": "f5b75aeb-969c-4fcc-b71a-9cde522c0b9a",
   "metadata": {},
   "outputs": [
    {
     "data": {
      "text/plain": [
       "str"
      ]
     },
     "execution_count": 7,
     "metadata": {},
     "output_type": "execute_result"
    }
   ],
   "source": [
    "type(planet) # str is string or text"
   ]
  },
  {
   "cell_type": "code",
   "execution_count": 8,
   "id": "96e0f434-3d6d-4412-9728-29dc26d5f3e2",
   "metadata": {},
   "outputs": [
    {
     "data": {
      "text/plain": [
       "'earth'"
      ]
     },
     "execution_count": 8,
     "metadata": {},
     "output_type": "execute_result"
    }
   ],
   "source": [
    "planet"
   ]
  },
  {
   "cell_type": "code",
   "execution_count": 9,
   "id": "30685460-880c-4a98-ba8c-027e6b709343",
   "metadata": {},
   "outputs": [
    {
     "name": "stdout",
     "output_type": "stream",
     "text": [
      "earth\n"
     ]
    }
   ],
   "source": [
    "print(planet)"
   ]
  },
  {
   "cell_type": "code",
   "execution_count": 10,
   "id": "f7428193-2083-44ce-919a-13b511b9f655",
   "metadata": {},
   "outputs": [
    {
     "name": "stdout",
     "output_type": "stream",
     "text": [
      "the diameter of earth is 12742\n"
     ]
    }
   ],
   "source": [
    "# first way of printing\n",
    "\n",
    "print(\"the diameter of {variable1} is {variable2}\".format(variable1 = planet, variable2 = diameter))"
   ]
  },
  {
   "cell_type": "code",
   "execution_count": 11,
   "id": "f735150a-1b18-4994-9f1d-39584ce87411",
   "metadata": {},
   "outputs": [
    {
     "name": "stdout",
     "output_type": "stream",
     "text": [
      "the diameter of earth is 12742\n"
     ]
    }
   ],
   "source": [
    "# second way of printing\n",
    "\n",
    "print(\"the diameter of \" + planet + \" is \" + str(diameter))"
   ]
  },
  {
   "cell_type": "code",
   "execution_count": 12,
   "id": "171329d4-2841-4e6a-8296-da51e2a11763",
   "metadata": {},
   "outputs": [
    {
     "name": "stdout",
     "output_type": "stream",
     "text": [
      "the diameter ofearthis12742\n"
     ]
    }
   ],
   "source": [
    "print(\"the diameter of\" + planet + \"is\" + str(diameter))"
   ]
  },
  {
   "cell_type": "code",
   "execution_count": 13,
   "id": "867eb37d-f6d9-45b6-a6c6-8bb266a6f4b5",
   "metadata": {},
   "outputs": [
    {
     "ename": "TypeError",
     "evalue": "can only concatenate str (not \"int\") to str",
     "output_type": "error",
     "traceback": [
      "\u001b[1;31m---------------------------------------------------------------------------\u001b[0m",
      "\u001b[1;31mTypeError\u001b[0m                                 Traceback (most recent call last)",
      "Cell \u001b[1;32mIn[13], line 1\u001b[0m\n\u001b[1;32m----> 1\u001b[0m \u001b[38;5;28mprint\u001b[39m(\u001b[38;5;124m\"\u001b[39m\u001b[38;5;124mthe diameter of \u001b[39m\u001b[38;5;124m\"\u001b[39m \u001b[38;5;241m+\u001b[39m planet \u001b[38;5;241m+\u001b[39m \u001b[38;5;124m\"\u001b[39m\u001b[38;5;124m is \u001b[39m\u001b[38;5;124m\"\u001b[39m \u001b[38;5;241m+\u001b[39m diameter)\n",
      "\u001b[1;31mTypeError\u001b[0m: can only concatenate str (not \"int\") to str"
     ]
    }
   ],
   "source": [
    "print(\"the diameter of \" + planet + \" is \" + diameter) \n",
    "# since  i m trying to concanetate string with an integer, it wont work\n"
   ]
  },
  {
   "cell_type": "code",
   "execution_count": 14,
   "id": "03fe9a35-f7cd-45a5-90e5-513a9153db0d",
   "metadata": {},
   "outputs": [
    {
     "name": "stdout",
     "output_type": "stream",
     "text": [
      "the diameter of earth is 12742\n"
     ]
    }
   ],
   "source": [
    "print(\"the diameter of \" + planet + \" is \" + str(diameter)) "
   ]
  },
  {
   "cell_type": "code",
   "execution_count": null,
   "id": "6d6f333c-1df8-446b-9f22-a34d5b3d968f",
   "metadata": {},
   "outputs": [],
   "source": [
    "(diameter)\n",
    "\n",
    "(diameter)"
   ]
  },
  {
   "cell_type": "code",
   "execution_count": 15,
   "id": "4853fcda-82ca-4cd2-9c97-0ce3148bc6ae",
   "metadata": {},
   "outputs": [
    {
     "name": "stdout",
     "output_type": "stream",
     "text": [
      "the diameter of earth is 12742\n"
     ]
    }
   ],
   "source": [
    "# third way of printing\n",
    "# f-string\n",
    "\n",
    "print(f\"the diameter of {planet} is {diameter}\")"
   ]
  },
  {
   "cell_type": "markdown",
   "id": "d9f10342-7692-46e5-a41f-0f413efcbe50",
   "metadata": {},
   "source": [
    "# data types"
   ]
  },
  {
   "cell_type": "code",
   "execution_count": null,
   "id": "47a1688a-e924-421c-94f2-043dc3e9a8f5",
   "metadata": {},
   "outputs": [],
   "source": [
    "\"\"\"\n",
    "\n",
    "numerical: int, float\n",
    "boolean: bool                  True False\n",
    "set: set                       set()   {}    {set cannot have duplicates}    {sets only contains the values, not the keys}\n",
    "string/text: str               str()   ''    \"\"\n",
    "tuple: tuple                   tuple()  ()\n",
    "list: list                     list()   []\n",
    "dictionary: dict               dict()   {\"key\":\"value\"}\n",
    "\n",
    "\n",
    "\n",
    "some notes:\n",
    "sets cannot have duplications.\n",
    "tuple cannot be mutated.\n",
    "list can contain mix data types and can be mutated.\n",
    "dictinoary is also called key-value pair, or in javascript, it is called object.\n",
    "json is another key-value pair example.\n",
    "\n",
    "\n",
    "\n",
    "\"\"\""
   ]
  },
  {
   "cell_type": "markdown",
   "id": "6f66c30d-5f37-45e6-8f6a-496cf19bfbb1",
   "metadata": {},
   "source": [
    "### numerical"
   ]
  },
  {
   "cell_type": "code",
   "execution_count": 16,
   "id": "4bd7add7-cb94-4728-afd9-b0862ceeecc5",
   "metadata": {},
   "outputs": [],
   "source": [
    "a = 5"
   ]
  },
  {
   "cell_type": "code",
   "execution_count": 17,
   "id": "c226aecf-fa63-4555-840d-eafff2ba0910",
   "metadata": {},
   "outputs": [
    {
     "data": {
      "text/plain": [
       "int"
      ]
     },
     "execution_count": 17,
     "metadata": {},
     "output_type": "execute_result"
    }
   ],
   "source": [
    "type(a)"
   ]
  },
  {
   "cell_type": "code",
   "execution_count": 18,
   "id": "60d432e1-b1c5-425a-b94b-7992dc04c369",
   "metadata": {},
   "outputs": [],
   "source": [
    "b = 5.8"
   ]
  },
  {
   "cell_type": "markdown",
   "id": "d3e67f16-9211-4eb8-8355-dde0cd508e9e",
   "metadata": {},
   "source": [
    "type(b)"
   ]
  },
  {
   "cell_type": "code",
   "execution_count": 20,
   "id": "24dbce3f-dcd6-4ba9-b6c3-5df1a34bee7b",
   "metadata": {},
   "outputs": [
    {
     "data": {
      "text/plain": [
       "5"
      ]
     },
     "execution_count": 20,
     "metadata": {},
     "output_type": "execute_result"
    }
   ],
   "source": [
    "int(b) # convert float b to integer b. and it floors the value"
   ]
  },
  {
   "cell_type": "code",
   "execution_count": 21,
   "id": "6cb13da6-1a60-4390-b2d8-f2f921f16606",
   "metadata": {},
   "outputs": [
    {
     "data": {
      "text/plain": [
       "5.0"
      ]
     },
     "execution_count": 21,
     "metadata": {},
     "output_type": "execute_result"
    }
   ],
   "source": [
    "float(a) # convert integer a to float b. and it adds 0 as a decimal"
   ]
  },
  {
   "cell_type": "markdown",
   "id": "93edcdb6-c367-4ef3-9ef3-f651c9095323",
   "metadata": {},
   "source": [
    "### boolean"
   ]
  },
  {
   "cell_type": "code",
   "execution_count": 22,
   "id": "80e1c79d-fddf-4674-9307-b37fb5a33bed",
   "metadata": {},
   "outputs": [],
   "source": [
    "c = False"
   ]
  },
  {
   "cell_type": "code",
   "execution_count": 23,
   "id": "e7454a1c-b1a7-4b3e-81f5-ec9824ccc220",
   "metadata": {},
   "outputs": [],
   "source": [
    "d = True"
   ]
  },
  {
   "cell_type": "code",
   "execution_count": 24,
   "id": "07f2437f-f65b-4a7f-a4dd-17eb4d83653d",
   "metadata": {},
   "outputs": [
    {
     "data": {
      "text/plain": [
       "bool"
      ]
     },
     "execution_count": 24,
     "metadata": {},
     "output_type": "execute_result"
    }
   ],
   "source": [
    "type(c)"
   ]
  },
  {
   "cell_type": "markdown",
   "id": "4cec3234-e3ca-4f71-9681-7c6ba38b4817",
   "metadata": {},
   "source": [
    "### sets"
   ]
  },
  {
   "cell_type": "code",
   "execution_count": 32,
   "id": "759dc0e7-da1a-45bc-a6c1-cc973e2551be",
   "metadata": {},
   "outputs": [],
   "source": [
    "my_set = {0,1,2,3,4,4,5,1,2, \"a\", \"b\",\"c\", \"a\", 7, a, b, c, d}"
   ]
  },
  {
   "cell_type": "code",
   "execution_count": 33,
   "id": "6df2c42b-b500-42b2-bc05-d0a8ba972841",
   "metadata": {},
   "outputs": [
    {
     "data": {
      "text/plain": [
       "set"
      ]
     },
     "execution_count": 33,
     "metadata": {},
     "output_type": "execute_result"
    }
   ],
   "source": [
    "type(my_set)"
   ]
  },
  {
   "cell_type": "code",
   "execution_count": 34,
   "id": "8ff04886-221f-4804-9f2b-f169dd902dd2",
   "metadata": {},
   "outputs": [
    {
     "data": {
      "text/plain": [
       "{0, 1, 2, 3, 4, 5, 5.8, 7, 'a', 'b', 'c'}"
      ]
     },
     "execution_count": 34,
     "metadata": {},
     "output_type": "execute_result"
    }
   ],
   "source": [
    "my_set"
   ]
  },
  {
   "cell_type": "code",
   "execution_count": null,
   "id": "658a61b7-3463-47e3-a5e2-8a143b11298e",
   "metadata": {},
   "outputs": [],
   "source": [
    "# question: what was the value of d\n",
    "# value of d is True"
   ]
  },
  {
   "cell_type": "code",
   "execution_count": 30,
   "id": "c31d25de-9af1-4adc-870e-be1c4a892acd",
   "metadata": {},
   "outputs": [
    {
     "data": {
      "text/plain": [
       "140715472700200"
      ]
     },
     "execution_count": 30,
     "metadata": {},
     "output_type": "execute_result"
    }
   ],
   "source": [
    "id(hash(d))"
   ]
  },
  {
   "cell_type": "code",
   "execution_count": 31,
   "id": "e5ee04f4-842b-479b-9d26-8be183513d39",
   "metadata": {},
   "outputs": [
    {
     "data": {
      "text/plain": [
       "140715472700200"
      ]
     },
     "execution_count": 31,
     "metadata": {},
     "output_type": "execute_result"
    }
   ],
   "source": [
    "id(hash(1))"
   ]
  },
  {
   "cell_type": "code",
   "execution_count": 35,
   "id": "7fc1b73c-0c14-43bf-b611-8ced5cd23f5b",
   "metadata": {},
   "outputs": [],
   "source": [
    "my_set.add(\"tuncay\")"
   ]
  },
  {
   "cell_type": "code",
   "execution_count": 36,
   "id": "3144ac54-7ab1-437f-a9e6-d9f289923b5e",
   "metadata": {},
   "outputs": [
    {
     "data": {
      "text/plain": [
       "{0, 1, 2, 3, 4, 5, 5.8, 7, 'a', 'b', 'c', 'tuncay'}"
      ]
     },
     "execution_count": 36,
     "metadata": {},
     "output_type": "execute_result"
    }
   ],
   "source": [
    "my_set"
   ]
  },
  {
   "cell_type": "code",
   "execution_count": null,
   "id": "bfc8ae51-5c38-4a80-be19-f6ced8369484",
   "metadata": {},
   "outputs": [],
   "source": [
    "my_set.pop()"
   ]
  },
  {
   "cell_type": "code",
   "execution_count": 38,
   "id": "8812df38-605b-432e-b632-1e667042b24f",
   "metadata": {},
   "outputs": [
    {
     "data": {
      "text/plain": [
       "{1, 2, 3, 4, 5, 5.8, 7, 'a', 'b', 'c', 'tuncay'}"
      ]
     },
     "execution_count": 38,
     "metadata": {},
     "output_type": "execute_result"
    }
   ],
   "source": [
    "my_set"
   ]
  },
  {
   "cell_type": "code",
   "execution_count": 39,
   "id": "c9dd3446-813c-41dd-a6e3-52dde2015122",
   "metadata": {},
   "outputs": [],
   "source": [
    "my_set.remove(\"tuncay\")"
   ]
  },
  {
   "cell_type": "code",
   "execution_count": 40,
   "id": "3d9fcdec-6ac1-4709-a1a8-7c162b3f31ef",
   "metadata": {},
   "outputs": [
    {
     "data": {
      "text/plain": [
       "{1, 2, 3, 4, 5, 5.8, 7, 'a', 'b', 'c'}"
      ]
     },
     "execution_count": 40,
     "metadata": {},
     "output_type": "execute_result"
    }
   ],
   "source": [
    "my_set"
   ]
  },
  {
   "cell_type": "code",
   "execution_count": 41,
   "id": "d2314281-7dfd-4c5d-827d-7d38d11cdbb2",
   "metadata": {},
   "outputs": [],
   "source": [
    "my_set2 = {1,2, \"k\", \"l\",\"o\"}"
   ]
  },
  {
   "cell_type": "code",
   "execution_count": 43,
   "id": "2b32a91e-738d-4b07-b5e6-f363f627bb0b",
   "metadata": {},
   "outputs": [],
   "source": [
    "new_set = my_set.intersection(my_set2)"
   ]
  },
  {
   "cell_type": "code",
   "execution_count": 44,
   "id": "b495d3c8-8a2a-47cb-9f02-69d12e15c737",
   "metadata": {},
   "outputs": [
    {
     "data": {
      "text/plain": [
       "{1, 2}"
      ]
     },
     "execution_count": 44,
     "metadata": {},
     "output_type": "execute_result"
    }
   ],
   "source": [
    "new_set"
   ]
  },
  {
   "cell_type": "markdown",
   "id": "24e1e50a-68b1-4f07-9625-dc136f4b4a83",
   "metadata": {},
   "source": [
    "### tuple"
   ]
  },
  {
   "cell_type": "code",
   "execution_count": 51,
   "id": "8b3c274f-a842-4d42-9f2b-a733234c23b6",
   "metadata": {},
   "outputs": [],
   "source": [
    "my_tuple = (0,1,2,3,4,4,5,1,2, \"a\", \"b\",\"c\", \"a\", 7, a, b, c, d)"
   ]
  },
  {
   "cell_type": "code",
   "execution_count": 52,
   "id": "417ff348-e88f-4db6-b290-f3fcbbe6c4fd",
   "metadata": {},
   "outputs": [
    {
     "data": {
      "text/plain": [
       "(0, 1, 2, 3, 4, 4, 5, 1, 2, 'a', 'b', 'c', 'a', 7, 5, 5.8, False, True)"
      ]
     },
     "execution_count": 52,
     "metadata": {},
     "output_type": "execute_result"
    }
   ],
   "source": [
    "my_tuple"
   ]
  },
  {
   "cell_type": "code",
   "execution_count": 53,
   "id": "497ff683-c004-4842-8a97-088e2fc49aa7",
   "metadata": {},
   "outputs": [
    {
     "data": {
      "text/plain": [
       "'b'"
      ]
     },
     "execution_count": 53,
     "metadata": {},
     "output_type": "execute_result"
    }
   ],
   "source": [
    "my_tuple[10]"
   ]
  },
  {
   "cell_type": "code",
   "execution_count": 54,
   "id": "80988397-695a-4fb0-9cdc-d800ae622c40",
   "metadata": {},
   "outputs": [
    {
     "data": {
      "text/plain": [
       "3"
      ]
     },
     "execution_count": 54,
     "metadata": {},
     "output_type": "execute_result"
    }
   ],
   "source": [
    "my_tuple.count(1)\n",
    "# how many times the value of 1 appears in my_tuple"
   ]
  },
  {
   "cell_type": "code",
   "execution_count": 55,
   "id": "4d321128-e307-4f16-b5d3-8c181ae423af",
   "metadata": {},
   "outputs": [
    {
     "data": {
      "text/plain": [
       "9"
      ]
     },
     "execution_count": 55,
     "metadata": {},
     "output_type": "execute_result"
    }
   ],
   "source": [
    "my_tuple.index(\"a\")\n",
    "# index location \"a\" appearing the first time in my_tuple is 9"
   ]
  },
  {
   "cell_type": "code",
   "execution_count": 57,
   "id": "5fa4103a-31e6-4e5f-98e8-d056baf36466",
   "metadata": {},
   "outputs": [],
   "source": [
    "my_tuple2 = my_tuple + (\"tuncay\" , \"charli\", 999)"
   ]
  },
  {
   "cell_type": "code",
   "execution_count": 59,
   "id": "9432b25a-b080-4b97-bd6d-5d8d70722a15",
   "metadata": {},
   "outputs": [
    {
     "name": "stdout",
     "output_type": "stream",
     "text": [
      "(0, 1, 2, 3, 4, 4, 5, 1, 2, 'a', 'b', 'c', 'a', 7, 5, 5.8, False, True, 'tuncay', 'charli', 999)\n"
     ]
    }
   ],
   "source": [
    "print(my_tuple2)"
   ]
  },
  {
   "cell_type": "markdown",
   "id": "4e037e68-d74b-4f44-8512-2273f4d391fc",
   "metadata": {},
   "source": [
    "### string"
   ]
  },
  {
   "cell_type": "code",
   "execution_count": 60,
   "id": "43ade7d9-2ff0-443d-b280-217ba1ef0ee8",
   "metadata": {},
   "outputs": [],
   "source": [
    "my_str = '   python IS nice: % ^ @ 1 2 3  i like it  '"
   ]
  },
  {
   "cell_type": "code",
   "execution_count": 61,
   "id": "ba620de1-c994-42f7-8425-abbddab4f19e",
   "metadata": {},
   "outputs": [
    {
     "data": {
      "text/plain": [
       "str"
      ]
     },
     "execution_count": 61,
     "metadata": {},
     "output_type": "execute_result"
    }
   ],
   "source": [
    "type(my_str)"
   ]
  },
  {
   "cell_type": "code",
   "execution_count": 62,
   "id": "ed744999-54b6-4089-8955-50f531f98097",
   "metadata": {},
   "outputs": [
    {
     "data": {
      "text/plain": [
       "' '"
      ]
     },
     "execution_count": 62,
     "metadata": {},
     "output_type": "execute_result"
    }
   ],
   "source": [
    "my_str[0]"
   ]
  },
  {
   "cell_type": "code",
   "execution_count": 63,
   "id": "a687210d-7ae4-4ecd-a3ad-da32d89edf69",
   "metadata": {},
   "outputs": [
    {
     "data": {
      "text/plain": [
       "'p'"
      ]
     },
     "execution_count": 63,
     "metadata": {},
     "output_type": "execute_result"
    }
   ],
   "source": [
    "my_str[3]"
   ]
  },
  {
   "cell_type": "code",
   "execution_count": 64,
   "id": "20dda933-2180-4393-be4c-0ce293ff9b4e",
   "metadata": {},
   "outputs": [
    {
     "data": {
      "text/plain": [
       "'   python is nice: % ^ @ 1 2 3  i like it  '"
      ]
     },
     "execution_count": 64,
     "metadata": {},
     "output_type": "execute_result"
    }
   ],
   "source": [
    "my_str.capitalize()"
   ]
  },
  {
   "cell_type": "code",
   "execution_count": 65,
   "id": "3e11678b-1a46-4002-a5b4-3af21a64c48c",
   "metadata": {},
   "outputs": [
    {
     "data": {
      "text/plain": [
       "'   python IS nick: % ^ @ 1 2 3  i likk it  '"
      ]
     },
     "execution_count": 65,
     "metadata": {},
     "output_type": "execute_result"
    }
   ],
   "source": [
    "my_str.replace(\"e\", \"k\")"
   ]
  },
  {
   "cell_type": "code",
   "execution_count": 66,
   "id": "95828966-1927-4c66-b8b5-66017541ef04",
   "metadata": {},
   "outputs": [
    {
     "data": {
      "text/plain": [
       "'pythonISnice:%^@123ilikeit'"
      ]
     },
     "execution_count": 66,
     "metadata": {},
     "output_type": "execute_result"
    }
   ],
   "source": [
    "my_str.replace(\" \", \"\") # single space replaced with no space"
   ]
  },
  {
   "cell_type": "code",
   "execution_count": 67,
   "id": "17daf268-6328-4372-b722-56b6920869e7",
   "metadata": {},
   "outputs": [
    {
     "data": {
      "text/plain": [
       "' python IS nice: % ^ @ 1 2 3i like it'"
      ]
     },
     "execution_count": 67,
     "metadata": {},
     "output_type": "execute_result"
    }
   ],
   "source": [
    "my_str.replace(\"  \", \"\") # double space replaced with no space"
   ]
  },
  {
   "cell_type": "code",
   "execution_count": 68,
   "id": "658752cc-61c4-4d8b-90ac-892d8fa24f50",
   "metadata": {},
   "outputs": [
    {
     "data": {
      "text/plain": [
       "'   PYTHON IS NICE: % ^ @ 1 2 3  I LIKE IT  '"
      ]
     },
     "execution_count": 68,
     "metadata": {},
     "output_type": "execute_result"
    }
   ],
   "source": [
    "my_str.upper()\n",
    "\n",
    "# my_str = my_str.upper()\n",
    "# my_str2 = my_str.upper()\n",
    "\n",
    "# there are some functions that are inplace = True by default\n",
    "# what i mean by this is that the change you made is modifying the original\n",
    "# inplace = True is like you assign the result back to itself"
   ]
  },
  {
   "cell_type": "code",
   "execution_count": 69,
   "id": "f274a440-98f4-4392-9bda-dbea411893e8",
   "metadata": {},
   "outputs": [
    {
     "data": {
      "text/plain": [
       "'   python is nice: % ^ @ 1 2 3  i like it  '"
      ]
     },
     "execution_count": 69,
     "metadata": {},
     "output_type": "execute_result"
    }
   ],
   "source": [
    "my_str.lower()"
   ]
  },
  {
   "cell_type": "code",
   "execution_count": 70,
   "id": "0a3ff3cf-a7e3-458d-bc5d-7b9a46d3eb17",
   "metadata": {},
   "outputs": [
    {
     "data": {
      "text/plain": [
       "['python', 'IS', 'nice:', '%', '^', '@', '1', '2', '3', 'i', 'like', 'it']"
      ]
     },
     "execution_count": 70,
     "metadata": {},
     "output_type": "execute_result"
    }
   ],
   "source": [
    "my_str.split()\n",
    "# once i split my_str, it becomes a list"
   ]
  },
  {
   "cell_type": "code",
   "execution_count": 72,
   "id": "b7b8fcd5-5b08-4e38-9696-a7581a32485a",
   "metadata": {},
   "outputs": [
    {
     "data": {
      "text/plain": [
       "'python'"
      ]
     },
     "execution_count": 72,
     "metadata": {},
     "output_type": "execute_result"
    }
   ],
   "source": [
    "my_str.split()[0]"
   ]
  },
  {
   "cell_type": "code",
   "execution_count": 71,
   "id": "f5e27d87-0d32-43b7-841e-7f73fc669193",
   "metadata": {},
   "outputs": [
    {
     "data": {
      "text/plain": [
       "['   python IS nice', ' % ^ @ 1 2 3  i like it  ']"
      ]
     },
     "execution_count": 71,
     "metadata": {},
     "output_type": "execute_result"
    }
   ],
   "source": [
    "my_str.split(\":\")"
   ]
  },
  {
   "cell_type": "code",
   "execution_count": 73,
   "id": "e9b31499-3ba1-498f-b87b-636028e040d9",
   "metadata": {},
   "outputs": [
    {
     "data": {
      "text/plain": [
       "'   python IS nice'"
      ]
     },
     "execution_count": 73,
     "metadata": {},
     "output_type": "execute_result"
    }
   ],
   "source": [
    "my_str.split(\":\")[0]"
   ]
  },
  {
   "cell_type": "code",
   "execution_count": 74,
   "id": "7f38af48-b338-4ee4-9849-333f05df0d7f",
   "metadata": {},
   "outputs": [
    {
     "data": {
      "text/plain": [
       "8"
      ]
     },
     "execution_count": 74,
     "metadata": {},
     "output_type": "execute_result"
    }
   ],
   "source": [
    "my_str.find(\"n\")\n",
    "# character n's index location is 8"
   ]
  },
  {
   "cell_type": "code",
   "execution_count": 75,
   "id": "5cfe0007-560b-4c12-8b94-59cfa0744e20",
   "metadata": {},
   "outputs": [
    {
     "data": {
      "text/plain": [
       "'python IS nice: % ^ @ 1 2 3  i like it'"
      ]
     },
     "execution_count": 75,
     "metadata": {},
     "output_type": "execute_result"
    }
   ],
   "source": [
    "my_str.strip()"
   ]
  },
  {
   "cell_type": "code",
   "execution_count": 76,
   "id": "b8a42d98-6298-4fbc-b667-aa9b8d90e3fd",
   "metadata": {},
   "outputs": [
    {
     "data": {
      "text/plain": [
       "'   python IS nice: % ^ @ 1 2 3  i like it'"
      ]
     },
     "execution_count": 76,
     "metadata": {},
     "output_type": "execute_result"
    }
   ],
   "source": [
    "my_str.rstrip()"
   ]
  },
  {
   "cell_type": "code",
   "execution_count": 77,
   "id": "d6ca4b3f-0740-43bd-8468-eea034987541",
   "metadata": {},
   "outputs": [
    {
     "data": {
      "text/plain": [
       "'python IS nice: % ^ @ 1 2 3  i like it  '"
      ]
     },
     "execution_count": 77,
     "metadata": {},
     "output_type": "execute_result"
    }
   ],
   "source": [
    "my_str.lstrip()"
   ]
  },
  {
   "cell_type": "code",
   "execution_count": 78,
   "id": "34bfe29c-37c4-496c-9725-6f13a4117d96",
   "metadata": {},
   "outputs": [
    {
     "data": {
      "text/plain": [
       "'   PYTHON is NICE: % ^ @ 1 2 3  I LIKE IT  '"
      ]
     },
     "execution_count": 78,
     "metadata": {},
     "output_type": "execute_result"
    }
   ],
   "source": [
    "my_str.swapcase()"
   ]
  },
  {
   "cell_type": "code",
   "execution_count": 79,
   "id": "c872dc80-665e-458d-93db-474c86c1470e",
   "metadata": {},
   "outputs": [
    {
     "data": {
      "text/plain": [
       "'   Python Is Nice: % ^ @ 1 2 3  I Like It  '"
      ]
     },
     "execution_count": 79,
     "metadata": {},
     "output_type": "execute_result"
    }
   ],
   "source": [
    "my_str.title()"
   ]
  },
  {
   "cell_type": "markdown",
   "id": "edffb4df-c44c-4969-9c9f-fdd087dce5d2",
   "metadata": {},
   "source": [
    "### list"
   ]
  },
  {
   "cell_type": "code",
   "execution_count": 80,
   "id": "487bf964-b036-47ef-93b4-f8720c891d2a",
   "metadata": {},
   "outputs": [],
   "source": [
    "my_list = [1,2,3,4,5, \"a\", \"b\", \"c\", \"d\", \"e\"]"
   ]
  },
  {
   "cell_type": "code",
   "execution_count": 82,
   "id": "ead2c6ad-055e-4ea1-87cf-b52d8c44d646",
   "metadata": {},
   "outputs": [
    {
     "data": {
      "text/plain": [
       "list"
      ]
     },
     "execution_count": 82,
     "metadata": {},
     "output_type": "execute_result"
    }
   ],
   "source": [
    "type(my_list)"
   ]
  },
  {
   "cell_type": "code",
   "execution_count": 83,
   "id": "9d866d14-7837-4de2-b787-8524b1b7e4dd",
   "metadata": {},
   "outputs": [
    {
     "data": {
      "text/plain": [
       "'e'"
      ]
     },
     "execution_count": 83,
     "metadata": {},
     "output_type": "execute_result"
    }
   ],
   "source": [
    "my_list.pop()\n",
    "# pop function in list is an inplace=True operation\n",
    "\n",
    "# even though i didnt assign it back to itself, it gave me the modified list\n",
    "# what i mean by assigning back to itself is this:   my_list = my_list.pop()"
   ]
  },
  {
   "cell_type": "code",
   "execution_count": 84,
   "id": "f0eea94b-6423-4dd7-a3f1-018d88d0e634",
   "metadata": {},
   "outputs": [
    {
     "data": {
      "text/plain": [
       "[1, 2, 3, 4, 5, 'a', 'b', 'c', 'd']"
      ]
     },
     "execution_count": 84,
     "metadata": {},
     "output_type": "execute_result"
    }
   ],
   "source": [
    "my_list"
   ]
  },
  {
   "cell_type": "code",
   "execution_count": 86,
   "id": "bca8e868-0a93-4217-a5f4-c15f845b511c",
   "metadata": {},
   "outputs": [
    {
     "data": {
      "text/plain": [
       "5"
      ]
     },
     "execution_count": 86,
     "metadata": {},
     "output_type": "execute_result"
    }
   ],
   "source": [
    "my_list.index(\"a\")"
   ]
  },
  {
   "cell_type": "code",
   "execution_count": 87,
   "id": "87f604f6-b421-48e6-81cd-1b5ad16f8a9b",
   "metadata": {},
   "outputs": [],
   "source": [
    "my_list.append(\"tuncay\")"
   ]
  },
  {
   "cell_type": "code",
   "execution_count": 88,
   "id": "ce91ea8a-f05c-4250-87c8-4b0209dffa8f",
   "metadata": {},
   "outputs": [
    {
     "data": {
      "text/plain": [
       "[1, 2, 3, 4, 5, 'a', 'b', 'c', 'd', 'tuncay']"
      ]
     },
     "execution_count": 88,
     "metadata": {},
     "output_type": "execute_result"
    }
   ],
   "source": [
    "my_list"
   ]
  },
  {
   "cell_type": "code",
   "execution_count": 89,
   "id": "c2215598-2422-4f70-a475-13a2bb54139a",
   "metadata": {},
   "outputs": [],
   "source": [
    "my_list.extend([\"jack\", \"charli\", \"julia\"])"
   ]
  },
  {
   "cell_type": "code",
   "execution_count": 90,
   "id": "a69e8b74-b16d-4a3c-86c0-22e2040ef64e",
   "metadata": {},
   "outputs": [
    {
     "data": {
      "text/plain": [
       "[1, 2, 3, 4, 5, 'a', 'b', 'c', 'd', 'tuncay', 'jack', 'charli', 'julia']"
      ]
     },
     "execution_count": 90,
     "metadata": {},
     "output_type": "execute_result"
    }
   ],
   "source": [
    "my_list"
   ]
  },
  {
   "cell_type": "code",
   "execution_count": 91,
   "id": "4e049922-8155-412f-836d-18f6d84b392b",
   "metadata": {},
   "outputs": [],
   "source": [
    "my_list.remove(\"tuncay\")"
   ]
  },
  {
   "cell_type": "code",
   "execution_count": 92,
   "id": "02c89642-6154-471d-8307-0fc68f0ed41b",
   "metadata": {},
   "outputs": [
    {
     "data": {
      "text/plain": [
       "[1, 2, 3, 4, 5, 'a', 'b', 'c', 'd', 'jack', 'charli', 'julia']"
      ]
     },
     "execution_count": 92,
     "metadata": {},
     "output_type": "execute_result"
    }
   ],
   "source": [
    "my_list"
   ]
  },
  {
   "cell_type": "markdown",
   "id": "0aeaeb61-bb7a-40c9-aa86-37463cf0c9cb",
   "metadata": {},
   "source": [
    "### dictionary"
   ]
  },
  {
   "cell_type": "code",
   "execution_count": 93,
   "id": "6cadab4c-be05-4f54-9db3-6228ed723e21",
   "metadata": {},
   "outputs": [],
   "source": [
    "my_dict = {\n",
    "    \n",
    "    \"jan\": \"julia\", \n",
    "    \"feb\": \"charli\",\n",
    "    \"mar\": \"drew\", \n",
    "    \"apr\": \"jon\"\n",
    "    \n",
    "}\n",
    "\n"
   ]
  },
  {
   "cell_type": "code",
   "execution_count": null,
   "id": "84fd36d8-6d59-40af-bf0e-8410c3c056e7",
   "metadata": {},
   "outputs": [],
   "source": [
    "\n",
    "{\n",
    "\"firstname\": \"charli\",\n",
    "\"lastname\": \"benet\", \n",
    "\"age\": 9,\n",
    "\"schools\": [\"abc primary school\":{}, \"def secondary school\", \" klm high school\"],\n",
    "\"grades\": [\n",
    "    {\"abc primary school\": \n",
    "               {\"first grade\": \n",
    "                    {\"english class\": 90, \n",
    "                     \"math class\": 100\n",
    "                    }\n",
    "               }\n",
    "          },\n",
    "            {\"def secondary school\":\n",
    "                {\"fifth grade\":\n",
    "                { \"english class\": 70\n",
    "                }\n",
    "            }\n",
    "            }\n",
    "        ]\n",
    "}\n"
   ]
  },
  {
   "cell_type": "code",
   "execution_count": 94,
   "id": "d38d7852-1233-4ed7-b540-963ff93f4ccc",
   "metadata": {},
   "outputs": [
    {
     "data": {
      "text/plain": [
       "dict"
      ]
     },
     "execution_count": 94,
     "metadata": {},
     "output_type": "execute_result"
    }
   ],
   "source": [
    "type(my_dict)"
   ]
  },
  {
   "cell_type": "code",
   "execution_count": 95,
   "id": "0d9ff49a-e0c1-4cfe-9ca6-e68b2514268f",
   "metadata": {},
   "outputs": [
    {
     "data": {
      "text/plain": [
       "dict_keys(['jan', 'feb', 'mar', 'apr'])"
      ]
     },
     "execution_count": 95,
     "metadata": {},
     "output_type": "execute_result"
    }
   ],
   "source": [
    "my_dict.keys()"
   ]
  },
  {
   "cell_type": "code",
   "execution_count": 96,
   "id": "8b0002db-8ae1-489a-8ec7-fc811fee2150",
   "metadata": {},
   "outputs": [
    {
     "data": {
      "text/plain": [
       "dict_values(['julia', 'charli', 'drew', 'jon'])"
      ]
     },
     "execution_count": 96,
     "metadata": {},
     "output_type": "execute_result"
    }
   ],
   "source": [
    "my_dict.values()"
   ]
  },
  {
   "cell_type": "code",
   "execution_count": 97,
   "id": "91616a67-d88e-4bd0-a7a4-31a7349d634e",
   "metadata": {},
   "outputs": [
    {
     "data": {
      "text/plain": [
       "dict_items([('jan', 'julia'), ('feb', 'charli'), ('mar', 'drew'), ('apr', 'jon')])"
      ]
     },
     "execution_count": 97,
     "metadata": {},
     "output_type": "execute_result"
    }
   ],
   "source": [
    "my_dict.items() "
   ]
  },
  {
   "cell_type": "code",
   "execution_count": 98,
   "id": "3695ba14-25ad-41eb-8be5-090341266f27",
   "metadata": {},
   "outputs": [
    {
     "data": {
      "text/plain": [
       "'jon'"
      ]
     },
     "execution_count": 98,
     "metadata": {},
     "output_type": "execute_result"
    }
   ],
   "source": [
    "my_dict[\"apr\"]"
   ]
  },
  {
   "cell_type": "markdown",
   "id": "681f41d7-a605-4ac1-a082-db3c9e9383c0",
   "metadata": {},
   "source": [
    "### for loop"
   ]
  },
  {
   "cell_type": "code",
   "execution_count": null,
   "id": "3bb590fa-5acb-489d-9120-f7f6cd2061a1",
   "metadata": {},
   "outputs": [],
   "source": [
    "\"\"\"\n",
    "for x in iterable:\n",
    "    somecode\n",
    "\n",
    "\n",
    "x is your iteration point; it is a placeholder\n",
    "iterable is the thing that you want to iterate through\n",
    "somecode is whatever you want to do\n",
    "\n",
    "\n",
    "\n",
    "\n",
    "\n",
    "for key, value in iterable:\n",
    "    somecode\n",
    "\n",
    "\n",
    "key and value are iteration points from a dictionary\n",
    "\n",
    "\"\"\""
   ]
  },
  {
   "cell_type": "markdown",
   "id": "c23bfc86-fc6f-4d99-9a7f-60c770d093e7",
   "metadata": {},
   "source": [
    "range(5)"
   ]
  },
  {
   "cell_type": "code",
   "execution_count": 100,
   "id": "5469a185-c928-4585-bba1-0fb1c202003f",
   "metadata": {},
   "outputs": [
    {
     "data": {
      "text/plain": [
       "[0, 1, 2, 3, 4]"
      ]
     },
     "execution_count": 100,
     "metadata": {},
     "output_type": "execute_result"
    }
   ],
   "source": [
    "list(range(5))"
   ]
  },
  {
   "cell_type": "code",
   "execution_count": 101,
   "id": "0ea01ab4-de1e-468d-8c03-b0a16c259bc5",
   "metadata": {},
   "outputs": [
    {
     "name": "stdout",
     "output_type": "stream",
     "text": [
      "0\n",
      "1\n",
      "2\n",
      "3\n",
      "4\n"
     ]
    }
   ],
   "source": [
    "for x in range(5):\n",
    "    print(x)"
   ]
  },
  {
   "cell_type": "code",
   "execution_count": 102,
   "id": "6de7b884-22ba-41d6-bf59-3f20ac3457f0",
   "metadata": {},
   "outputs": [
    {
     "name": "stdout",
     "output_type": "stream",
     "text": [
      "d\n",
      "a\n",
      "l\n",
      "l\n",
      "a\n",
      "s\n"
     ]
    }
   ],
   "source": [
    "city = \"dallas\"\n",
    "\n",
    "for x in city:\n",
    "    print(x)"
   ]
  },
  {
   "cell_type": "markdown",
   "id": "085bd9dc-9b1a-435f-9a5f-28c24441c056",
   "metadata": {},
   "source": [
    "### if else"
   ]
  },
  {
   "cell_type": "code",
   "execution_count": null,
   "id": "243d5136-fce3-4828-a018-d057dbf02944",
   "metadata": {},
   "outputs": [],
   "source": [
    "\"\"\"\n",
    "\n",
    "if some condition:\n",
    "    some code\n",
    "elif some other condition:\n",
    "    some more code\n",
    "else:\n",
    "    some more more code\n",
    "\n",
    "\n",
    "\"\"\""
   ]
  },
  {
   "cell_type": "code",
   "execution_count": 105,
   "id": "7295f090-73c2-4ba1-9b4a-d8976964b7c1",
   "metadata": {},
   "outputs": [
    {
     "name": "stdout",
     "output_type": "stream",
     "text": [
      "yeah, x is 1\n"
     ]
    }
   ],
   "source": [
    "x = 1\n",
    "y = 10\n",
    "\n",
    "if x == 1:\n",
    "    print(\"yeah, x is 1\")"
   ]
  },
  {
   "cell_type": "code",
   "execution_count": 106,
   "id": "717f75d4-41f1-4e9e-bbf8-b3316b46c8b3",
   "metadata": {},
   "outputs": [
    {
     "name": "stdout",
     "output_type": "stream",
     "text": [
      "y is 10\n"
     ]
    }
   ],
   "source": [
    "if x == 7: \n",
    "    print(\"yeah, x is 1\")\n",
    "elif y == 10:\n",
    "    print(\"y is 10\")"
   ]
  },
  {
   "cell_type": "code",
   "execution_count": 107,
   "id": "138f715d-5114-49f2-9421-312cb2eeaf11",
   "metadata": {},
   "outputs": [
    {
     "name": "stdout",
     "output_type": "stream",
     "text": [
      "all failed, i am here now\n"
     ]
    }
   ],
   "source": [
    "if x == 7: \n",
    "    print(\"yeah, x is 1\")\n",
    "elif y == 11:\n",
    "    print(\"y is 10\")\n",
    "else:\n",
    "    print(\"all failed, i am here now\")"
   ]
  },
  {
   "cell_type": "code",
   "execution_count": null,
   "id": "5ee02ece-b922-42bf-95cc-cdd8b30fb56b",
   "metadata": {},
   "outputs": [],
   "source": [
    "if x > 7: \n",
    "    print(\"yeah, x is 1\")\n",
    "elif y < 11:\n",
    "    print(\"y is 10\")\n",
    "else:\n",
    "    print(\"all failed, i am here now\")"
   ]
  },
  {
   "cell_type": "code",
   "execution_count": null,
   "id": "d181b216-7c36-4216-9411-018beeaa6648",
   "metadata": {},
   "outputs": [],
   "source": [
    "if x >= 7: \n",
    "    print(\"yeah, x is 1\")\n",
    "elif y <= 11:\n",
    "    print(\"y is 10\")\n",
    "else:\n",
    "    print(\"all failed, i am here now\")"
   ]
  }
 ],
 "metadata": {
  "kernelspec": {
   "display_name": "Python 3 (ipykernel)",
   "language": "python",
   "name": "python3"
  },
  "language_info": {
   "codemirror_mode": {
    "name": "ipython",
    "version": 3
   },
   "file_extension": ".py",
   "mimetype": "text/x-python",
   "name": "python",
   "nbconvert_exporter": "python",
   "pygments_lexer": "ipython3",
   "version": "3.11.7"
  }
 },
 "nbformat": 4,
 "nbformat_minor": 5
}
